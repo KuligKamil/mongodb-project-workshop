{
 "cells": [
  {
   "cell_type": "markdown",
   "metadata": {},
   "source": [
    "insert data\n",
    "* insert\n",
    "  * create\n",
    "* insert_one\n",
    "* insert_many\n",
    "* save\n",
    "\n",
    "get data\n",
    "* get\n",
    "* find\n",
    "  * to_list\n",
    "  * first_or_none\n",
    "* find_one\n",
    "* find_many\n",
    "* find_all\n",
    "\n",
    "sync\n"
   ]
  },
  {
   "cell_type": "markdown",
   "metadata": {},
   "source": [
    "when we would like to create application \n",
    "\n",
    "we want to create for users\n",
    "\n",
    "that why our first class will be user"
   ]
  },
  {
   "cell_type": "markdown",
   "metadata": {},
   "source": [
    "pydantic + beanie = ❤️\n"
   ]
  },
  {
   "cell_type": "code",
   "execution_count": 69,
   "metadata": {},
   "outputs": [
    {
     "data": {
      "text/plain": [
       "pydantic._internal._model_construction.ModelMetaclass"
      ]
     },
     "execution_count": 69,
     "metadata": {},
     "output_type": "execute_result"
    }
   ],
   "source": [
    "from pydantic import BaseModel\n",
    "\n",
    "\n",
    "class User(BaseModel):\n",
    "    name: str\n",
    "    surname: str\n",
    "    email: str\n",
    "\n",
    "type(User)"
   ]
  },
  {
   "cell_type": "code",
   "execution_count": 152,
   "metadata": {},
   "outputs": [
    {
     "data": {
      "text/plain": [
       "User(id=None, revision_id=None, name='Adam', surname='Brzyzek', email='nothotadam@gmail.com')"
      ]
     },
     "execution_count": 152,
     "metadata": {},
     "output_type": "execute_result"
    }
   ],
   "source": [
    "not_hot_adam = User(name=\"Adam\", surname=\"Brzyzek\", email=\"nothotadam@gmail.com\")\n",
    "not_hot_adam"
   ]
  },
  {
   "cell_type": "code",
   "execution_count": 71,
   "metadata": {},
   "outputs": [
    {
     "data": {
      "text/plain": [
       "'{\"name\":\"Adam\",\"surname\":\"Brzyzek\",\"email\":\"nothotadam@gmail.com\"}'"
      ]
     },
     "execution_count": 71,
     "metadata": {},
     "output_type": "execute_result"
    }
   ],
   "source": [
    "not_hot_adam.model_dump_json()"
   ]
  },
  {
   "cell_type": "code",
   "execution_count": 72,
   "metadata": {},
   "outputs": [
    {
     "data": {
      "text/plain": [
       "{'name': 'Adam', 'surname': 'Brzyzek', 'email': 'nothotadam@gmail.com'}"
      ]
     },
     "execution_count": 72,
     "metadata": {},
     "output_type": "execute_result"
    }
   ],
   "source": [
    "not_hot_adam.model_dump()"
   ]
  },
  {
   "cell_type": "code",
   "execution_count": 73,
   "metadata": {},
   "outputs": [
    {
     "data": {
      "text/plain": [
       "pydantic._internal._model_construction.ModelMetaclass"
      ]
     },
     "execution_count": 73,
     "metadata": {},
     "output_type": "execute_result"
    }
   ],
   "source": [
    "from beanie import Document\n",
    "\n",
    "\n",
    "class User(Document):\n",
    "    name: str\n",
    "    surname: str\n",
    "    email: str\n",
    "\n",
    "type(User)"
   ]
  },
  {
   "cell_type": "markdown",
   "metadata": {},
   "source": [
    "if you run it you will get 'CollectionWasNotInitialized'\n",
    "\n",
    "first initialize Collection"
   ]
  },
  {
   "cell_type": "code",
   "execution_count": 74,
   "metadata": {},
   "outputs": [
    {
     "data": {
      "text/plain": [
       "<Future pending cb=[_chain_future.<locals>._call_check_cancel() at /Users/coolig/.pyenv/versions/3.11.9/lib/python3.11/asyncio/futures.py:387]>"
      ]
     },
     "execution_count": 74,
     "metadata": {},
     "output_type": "execute_result"
    }
   ],
   "source": [
    "import os\n",
    "\n",
    "from beanie import init_beanie\n",
    "from motor.motor_asyncio import AsyncIOMotorClient\n",
    "\n",
    "\n",
    "client = AsyncIOMotorClient(os.getenv(\"MONGODB_URI\"))\n",
    "await init_beanie(\n",
    "    database=client.workshop,\n",
    "    document_models=[User],\n",
    "    multiprocessing_mode=True,\n",
    ")\n",
    "client.drop_database(name_or_database=client.workshop)\n"
   ]
  },
  {
   "cell_type": "code",
   "execution_count": 75,
   "metadata": {},
   "outputs": [
    {
     "data": {
      "text/plain": [
       "User(id=None, revision_id=None, name='Adam', surname='Brzyzek', email='hotadam@gmail.com')"
      ]
     },
     "execution_count": 75,
     "metadata": {},
     "output_type": "execute_result"
    }
   ],
   "source": [
    "hot_adam = User(name=\"Adam\", surname=\"Brzyzek\", email=\"hotadam@gmail.com\")\n",
    "hot_adam\n"
   ]
  },
  {
   "cell_type": "code",
   "execution_count": 76,
   "metadata": {},
   "outputs": [
    {
     "data": {
      "text/plain": [
       "{'id': None,\n",
       " 'name': 'Adam',\n",
       " 'surname': 'Brzyzek',\n",
       " 'email': 'hotadam@gmail.com'}"
      ]
     },
     "execution_count": 76,
     "metadata": {},
     "output_type": "execute_result"
    }
   ],
   "source": [
    "hot_adam.model_dump()"
   ]
  },
  {
   "cell_type": "code",
   "execution_count": 77,
   "metadata": {},
   "outputs": [
    {
     "data": {
      "text/plain": [
       "<coroutine object Document.insert at 0x10e04c6a0>"
      ]
     },
     "execution_count": 77,
     "metadata": {},
     "output_type": "execute_result"
    }
   ],
   "source": [
    "User.insert(hot_adam)"
   ]
  },
  {
   "cell_type": "markdown",
   "metadata": {},
   "source": [
    "coroutine"
   ]
  },
  {
   "cell_type": "code",
   "execution_count": 78,
   "metadata": {},
   "outputs": [
    {
     "data": {
      "text/plain": [
       "{'id': None,\n",
       " 'name': 'Adam',\n",
       " 'surname': 'Brzyzek',\n",
       " 'email': 'hotadam@gmail.com'}"
      ]
     },
     "execution_count": 78,
     "metadata": {},
     "output_type": "execute_result"
    }
   ],
   "source": [
    "hot_adam.model_dump()"
   ]
  },
  {
   "cell_type": "code",
   "execution_count": 79,
   "metadata": {},
   "outputs": [
    {
     "data": {
      "text/plain": [
       "User(id=ObjectId('66c37bfdd4bd4b7536884de8'), revision_id=None, name='Adam', surname='Brzyzek', email='hotadam@gmail.com')"
      ]
     },
     "execution_count": 79,
     "metadata": {},
     "output_type": "execute_result"
    }
   ],
   "source": [
    "await User.insert(hot_adam)"
   ]
  },
  {
   "cell_type": "code",
   "execution_count": 80,
   "metadata": {},
   "outputs": [
    {
     "data": {
      "text/plain": [
       "{'id': '66c37bfdd4bd4b7536884de8',\n",
       " 'name': 'Adam',\n",
       " 'surname': 'Brzyzek',\n",
       " 'email': 'hotadam@gmail.com'}"
      ]
     },
     "execution_count": 80,
     "metadata": {},
     "output_type": "execute_result"
    }
   ],
   "source": [
    "hot_adam.model_dump()\n"
   ]
  },
  {
   "cell_type": "code",
   "execution_count": 81,
   "metadata": {},
   "outputs": [
    {
     "data": {
      "text/plain": [
       "<Future pending cb=[_chain_future.<locals>._call_check_cancel() at /Users/coolig/.pyenv/versions/3.11.9/lib/python3.11/asyncio/futures.py:387]>"
      ]
     },
     "execution_count": 81,
     "metadata": {},
     "output_type": "execute_result"
    }
   ],
   "source": [
    "client.drop_database(name_or_database=client.workshop)\n"
   ]
  },
  {
   "cell_type": "code",
   "execution_count": 82,
   "metadata": {},
   "outputs": [
    {
     "data": {
      "text/plain": [
       "User(id=ObjectId('66c37bfdd4bd4b7536884de9'), revision_id=None, name='Adam', surname='Brzyzek', email='hotadam@gmail.com')"
      ]
     },
     "execution_count": 82,
     "metadata": {},
     "output_type": "execute_result"
    }
   ],
   "source": [
    "hot_adam = User(name=\"Adam\", surname=\"Brzyzek\", email=\"hotadam@gmail.com\")\n",
    "hot_adam\n",
    "await User.insert_one(hot_adam)\n"
   ]
  },
  {
   "cell_type": "code",
   "execution_count": 134,
   "metadata": {},
   "outputs": [
    {
     "data": {
      "text/plain": [
       "{'id': '66c37c25d4bd4b7536884dea',\n",
       " 'name': 'Adam',\n",
       " 'surname': 'Brzyzek',\n",
       " 'email': 'hotadam@gmail.com'}"
      ]
     },
     "execution_count": 134,
     "metadata": {},
     "output_type": "execute_result"
    }
   ],
   "source": [
    "hot_adam.model_dump()"
   ]
  },
  {
   "cell_type": "code",
   "execution_count": 136,
   "metadata": {},
   "outputs": [
    {
     "data": {
      "text/plain": [
       "{'id': '66c37fd6d4bd4b7536884dec',\n",
       " 'name': 'Adam',\n",
       " 'surname': 'Brzyzek',\n",
       " 'email': 'hotadam@gmail.com'}"
      ]
     },
     "execution_count": 136,
     "metadata": {},
     "output_type": "execute_result"
    }
   ],
   "source": [
    "hot_adam = User(name=\"Adam\", surname=\"Brzyzek\", email=\"hotadam@gmail.com\")\n",
    "await User.create(hot_adam)\n",
    "hot_adam.model_dump()"
   ]
  },
  {
   "cell_type": "code",
   "execution_count": 137,
   "metadata": {},
   "outputs": [
    {
     "data": {
      "text/plain": [
       "(User(id=ObjectId('66c37fd6d4bd4b7536884dec'), revision_id=None, name='Adam', surname='Brzyzek', email='hotadam@gmail.com'),\n",
       " __main__.User)"
      ]
     },
     "execution_count": 137,
     "metadata": {},
     "output_type": "execute_result"
    }
   ],
   "source": [
    "adam = await User.get(hot_adam.id)\n",
    "adam, type(adam)"
   ]
  },
  {
   "cell_type": "code",
   "execution_count": 87,
   "metadata": {},
   "outputs": [
    {
     "data": {
      "text/plain": [
       "User(id=ObjectId('66c37c25d4bd4b7536884dea'), revision_id=None, name='Adam', surname='Brzyzek', email='hotadam@gmail.com')"
      ]
     },
     "execution_count": 87,
     "metadata": {},
     "output_type": "execute_result"
    }
   ],
   "source": [
    "await User.find_one(User.id == hot_adam.id)"
   ]
  },
  {
   "cell_type": "markdown",
   "metadata": {},
   "source": [
    "find more powerfull"
   ]
  },
  {
   "cell_type": "code",
   "execution_count": 97,
   "metadata": {},
   "outputs": [
    {
     "name": "stdout",
     "output_type": "stream",
     "text": [
      "<beanie.odm.queries.find.FindMany object at 0x10ec80790> <class 'beanie.odm.queries.find.FindMany'>\n"
     ]
    }
   ],
   "source": [
    "result = User.find()\n",
    "print(result, type(result))"
   ]
  },
  {
   "cell_type": "code",
   "execution_count": 99,
   "metadata": {},
   "outputs": [
    {
     "name": "stdout",
     "output_type": "stream",
     "text": [
      "[User(id=ObjectId('66c37bfdd4bd4b7536884de9'), revision_id=None, name='Adam', surname='Brzyzek', email='hotadam@gmail.com'), User(id=ObjectId('66c37c25d4bd4b7536884dea'), revision_id=None, name='Adam', surname='Brzyzek', email='hotadam@gmail.com')]\n",
      "2\n"
     ]
    }
   ],
   "source": [
    "result = await User.find().to_list()\n",
    "print(result)\n",
    "print(len(result))\n"
   ]
  },
  {
   "cell_type": "code",
   "execution_count": 147,
   "metadata": {},
   "outputs": [
    {
     "data": {
      "text/plain": [
       "[User(id=ObjectId('66c37bfdd4bd4b7536884de9'), revision_id=None, name='Adam', surname='Brzyzek', email='hotadam@gmail.com'),\n",
       " User(id=ObjectId('66c37c25d4bd4b7536884dea'), revision_id=None, name='Adam', surname='Brzyzek', email='hotadam@gmail.com'),\n",
       " User(id=ObjectId('66c37fc5d4bd4b7536884deb'), revision_id=None, name='Adam', surname='Brzyzek', email='hotadam@gmail.com'),\n",
       " User(id=ObjectId('66c37fd6d4bd4b7536884dec'), revision_id=None, name='Adam', surname='Brzyzek', email='hotadam@gmail.com')]"
      ]
     },
     "execution_count": 147,
     "metadata": {},
     "output_type": "execute_result"
    }
   ],
   "source": []
  },
  {
   "cell_type": "code",
   "execution_count": 148,
   "metadata": {},
   "outputs": [
    {
     "name": "stdout",
     "output_type": "stream",
     "text": [
      "id=ObjectId('66c37bfdd4bd4b7536884de9') revision_id=None name='Adam' surname='Brzyzek' email='hotadam@gmail.com'\n",
      "<class '__main__.User'>\n"
     ]
    }
   ],
   "source": [
    "result = await User.find().first_or_none()\n",
    "print(result)\n",
    "print(type(result))"
   ]
  },
  {
   "cell_type": "markdown",
   "metadata": {},
   "source": [
    "pymongo syntax - ble string XD"
   ]
  },
  {
   "cell_type": "code",
   "execution_count": 149,
   "metadata": {},
   "outputs": [
    {
     "data": {
      "text/plain": [
       "[User(id=ObjectId('66c37fd6d4bd4b7536884dec'), revision_id=None, name='Adam', surname='Brzyzek', email='hotadam@gmail.com')]"
      ]
     },
     "execution_count": 149,
     "metadata": {},
     "output_type": "execute_result"
    }
   ],
   "source": [
    "await User.find({\"_id\": hot_adam.id}).to_list()\n"
   ]
  },
  {
   "cell_type": "code",
   "execution_count": 154,
   "metadata": {},
   "outputs": [
    {
     "data": {
      "text/plain": [
       "[User(id=ObjectId('66c37bfdd4bd4b7536884de9'), revision_id=None, name='Adam', surname='Brzyzek', email='hotadam@gmail.com'),\n",
       " User(id=ObjectId('66c37c25d4bd4b7536884dea'), revision_id=None, name='Adam', surname='Brzyzek', email='hotadam@gmail.com'),\n",
       " User(id=ObjectId('66c37fc5d4bd4b7536884deb'), revision_id=None, name='Adam', surname='Brzyzek', email='hotadam@gmail.com'),\n",
       " User(id=ObjectId('66c37fd6d4bd4b7536884dec'), revision_id=None, name='Adam', surname='Brzyzek', email='hotadam@gmail.com')]"
      ]
     },
     "execution_count": 154,
     "metadata": {},
     "output_type": "execute_result"
    }
   ],
   "source": [
    "await User.find_many().to_list()\n"
   ]
  },
  {
   "cell_type": "code",
   "execution_count": 153,
   "metadata": {},
   "outputs": [
    {
     "data": {
      "text/plain": [
       "[User(id=ObjectId('66c37bfdd4bd4b7536884de9'), revision_id=None, name='Adam', surname='Brzyzek', email='hotadam@gmail.com'),\n",
       " User(id=ObjectId('66c37c25d4bd4b7536884dea'), revision_id=None, name='Adam', surname='Brzyzek', email='hotadam@gmail.com'),\n",
       " User(id=ObjectId('66c37fc5d4bd4b7536884deb'), revision_id=None, name='Adam', surname='Brzyzek', email='hotadam@gmail.com'),\n",
       " User(id=ObjectId('66c37fd6d4bd4b7536884dec'), revision_id=None, name='Adam', surname='Brzyzek', email='hotadam@gmail.com')]"
      ]
     },
     "execution_count": 153,
     "metadata": {},
     "output_type": "execute_result"
    }
   ],
   "source": [
    "await User.find_all().to_list()\n"
   ]
  },
  {
   "cell_type": "code",
   "execution_count": null,
   "metadata": {},
   "outputs": [],
   "source": []
  }
 ],
 "metadata": {
  "kernelspec": {
   "display_name": "mongodb-project-workshop-3.11.9",
   "language": "python",
   "name": "python3"
  },
  "language_info": {
   "codemirror_mode": {
    "name": "ipython",
    "version": 3
   },
   "file_extension": ".py",
   "mimetype": "text/x-python",
   "name": "python",
   "nbconvert_exporter": "python",
   "pygments_lexer": "ipython3",
   "version": "3.11.9"
  }
 },
 "nbformat": 4,
 "nbformat_minor": 2
}
