{
 "cells": [
  {
   "cell_type": "markdown",
   "metadata": {},
   "source": [
    "insert data\n",
    "* insert\n",
    "  * create\n",
    "* insert_one\n",
    "* insert_many\n",
    "* save\n",
    "\n",
    "get data\n",
    "* get / find_one\n",
    "* find\n",
    "  * to_list\n",
    "  * first_or_none\n",
    "* find_many\n",
    "* find_all\n",
    "\n",
    "sync\n"
   ]
  },
  {
   "cell_type": "markdown",
   "metadata": {},
   "source": [
    "when we would like to create application \n",
    "\n",
    "we want to create for users\n",
    "\n",
    "that why our first class will be user"
   ]
  },
  {
   "cell_type": "markdown",
   "metadata": {},
   "source": [
    "pydantic + beanie = ❤️\n"
   ]
  },
  {
   "cell_type": "code",
   "execution_count": 155,
   "metadata": {},
   "outputs": [
    {
     "data": {
      "text/plain": [
       "pydantic._internal._model_construction.ModelMetaclass"
      ]
     },
     "execution_count": 155,
     "metadata": {},
     "output_type": "execute_result"
    }
   ],
   "source": [
    "from pydantic import BaseModel\n",
    "\n",
    "\n",
    "class User(BaseModel):\n",
    "    name: str\n",
    "    surname: str\n",
    "    email: str\n",
    "\n",
    "type(User)"
   ]
  },
  {
   "cell_type": "code",
   "execution_count": 156,
   "metadata": {},
   "outputs": [
    {
     "data": {
      "text/plain": [
       "User(name='Adam', surname='Brzyzek', email='nothotadam@gmail.com')"
      ]
     },
     "execution_count": 156,
     "metadata": {},
     "output_type": "execute_result"
    }
   ],
   "source": [
    "not_hot_adam = User(name=\"Adam\", surname=\"Brzyzek\", email=\"nothotadam@gmail.com\")\n",
    "not_hot_adam"
   ]
  },
  {
   "cell_type": "code",
   "execution_count": 157,
   "metadata": {},
   "outputs": [
    {
     "data": {
      "text/plain": [
       "'{\"name\":\"Adam\",\"surname\":\"Brzyzek\",\"email\":\"nothotadam@gmail.com\"}'"
      ]
     },
     "execution_count": 157,
     "metadata": {},
     "output_type": "execute_result"
    }
   ],
   "source": [
    "not_hot_adam.model_dump_json()"
   ]
  },
  {
   "cell_type": "code",
   "execution_count": 158,
   "metadata": {},
   "outputs": [
    {
     "data": {
      "text/plain": [
       "{'name': 'Adam', 'surname': 'Brzyzek', 'email': 'nothotadam@gmail.com'}"
      ]
     },
     "execution_count": 158,
     "metadata": {},
     "output_type": "execute_result"
    }
   ],
   "source": [
    "not_hot_adam.model_dump()"
   ]
  },
  {
   "cell_type": "code",
   "execution_count": 159,
   "metadata": {},
   "outputs": [
    {
     "data": {
      "text/plain": [
       "pydantic._internal._model_construction.ModelMetaclass"
      ]
     },
     "execution_count": 159,
     "metadata": {},
     "output_type": "execute_result"
    }
   ],
   "source": [
    "from beanie import Document\n",
    "\n",
    "\n",
    "class User(Document):\n",
    "    name: str\n",
    "    surname: str\n",
    "    email: str\n",
    "\n",
    "type(User)"
   ]
  },
  {
   "cell_type": "markdown",
   "metadata": {},
   "source": [
    "if you run it you will get 'CollectionWasNotInitialized'\n",
    "\n",
    "first initialize Collection"
   ]
  },
  {
   "cell_type": "code",
   "execution_count": 160,
   "metadata": {},
   "outputs": [
    {
     "data": {
      "text/plain": [
       "<Future pending cb=[_chain_future.<locals>._call_check_cancel() at /Users/coolig/.pyenv/versions/3.11.9/lib/python3.11/asyncio/futures.py:387]>"
      ]
     },
     "execution_count": 160,
     "metadata": {},
     "output_type": "execute_result"
    }
   ],
   "source": [
    "import os\n",
    "\n",
    "from beanie import init_beanie\n",
    "from motor.motor_asyncio import AsyncIOMotorClient\n",
    "\n",
    "\n",
    "client = AsyncIOMotorClient(os.getenv(\"MONGODB_URI\"))\n",
    "await init_beanie(\n",
    "    database=client.workshop,\n",
    "    document_models=[User],\n",
    "    multiprocessing_mode=True,\n",
    ")\n",
    "client.drop_database(name_or_database=client.workshop)\n"
   ]
  },
  {
   "cell_type": "code",
   "execution_count": 161,
   "metadata": {},
   "outputs": [
    {
     "data": {
      "text/plain": [
       "User(id=None, revision_id=None, name='Adam', surname='Brzyzek', email='hotadam@gmail.com')"
      ]
     },
     "execution_count": 161,
     "metadata": {},
     "output_type": "execute_result"
    }
   ],
   "source": [
    "hot_adam = User(name=\"Adam\", surname=\"Brzyzek\", email=\"hotadam@gmail.com\")\n",
    "hot_adam\n"
   ]
  },
  {
   "cell_type": "code",
   "execution_count": 164,
   "metadata": {},
   "outputs": [
    {
     "data": {
      "text/plain": [
       "{'id': None,\n",
       " 'name': 'Adam',\n",
       " 'surname': 'Brzyzek',\n",
       " 'email': 'hotadam@gmail.com'}"
      ]
     },
     "execution_count": 164,
     "metadata": {},
     "output_type": "execute_result"
    }
   ],
   "source": [
    "hot_adam.model_dump()"
   ]
  },
  {
   "cell_type": "code",
   "execution_count": 163,
   "metadata": {},
   "outputs": [
    {
     "data": {
      "text/plain": [
       "<coroutine object Document.insert at 0x10dca3450>"
      ]
     },
     "execution_count": 163,
     "metadata": {},
     "output_type": "execute_result"
    }
   ],
   "source": [
    "User.insert(hot_adam)"
   ]
  },
  {
   "cell_type": "markdown",
   "metadata": {},
   "source": [
    "coroutine"
   ]
  },
  {
   "cell_type": "code",
   "execution_count": 165,
   "metadata": {},
   "outputs": [
    {
     "data": {
      "text/plain": [
       "{'id': None,\n",
       " 'name': 'Adam',\n",
       " 'surname': 'Brzyzek',\n",
       " 'email': 'hotadam@gmail.com'}"
      ]
     },
     "execution_count": 165,
     "metadata": {},
     "output_type": "execute_result"
    }
   ],
   "source": [
    "hot_adam.model_dump()"
   ]
  },
  {
   "cell_type": "code",
   "execution_count": 166,
   "metadata": {},
   "outputs": [
    {
     "data": {
      "text/plain": [
       "User(id=ObjectId('66c3ab63d4bd4b7536884dee'), revision_id=None, name='Adam', surname='Brzyzek', email='hotadam@gmail.com')"
      ]
     },
     "execution_count": 166,
     "metadata": {},
     "output_type": "execute_result"
    }
   ],
   "source": [
    "await User.insert(hot_adam)"
   ]
  },
  {
   "cell_type": "code",
   "execution_count": null,
   "metadata": {},
   "outputs": [],
   "source": [
    "# id i revision_id"
   ]
  },
  {
   "cell_type": "code",
   "execution_count": 167,
   "metadata": {},
   "outputs": [
    {
     "data": {
      "text/plain": [
       "{'id': '66c3ab63d4bd4b7536884dee',\n",
       " 'name': 'Adam',\n",
       " 'surname': 'Brzyzek',\n",
       " 'email': 'hotadam@gmail.com'}"
      ]
     },
     "execution_count": 167,
     "metadata": {},
     "output_type": "execute_result"
    }
   ],
   "source": [
    "hot_adam.model_dump()\n"
   ]
  },
  {
   "cell_type": "code",
   "execution_count": 168,
   "metadata": {},
   "outputs": [
    {
     "data": {
      "text/plain": [
       "<Future pending cb=[_chain_future.<locals>._call_check_cancel() at /Users/coolig/.pyenv/versions/3.11.9/lib/python3.11/asyncio/futures.py:387]>"
      ]
     },
     "execution_count": 168,
     "metadata": {},
     "output_type": "execute_result"
    }
   ],
   "source": [
    "client.drop_database(name_or_database=client.workshop)\n"
   ]
  },
  {
   "cell_type": "code",
   "execution_count": 169,
   "metadata": {},
   "outputs": [
    {
     "data": {
      "text/plain": [
       "User(id=ObjectId('66c3ab9dd4bd4b7536884def'), revision_id=None, name='Adam', surname='Brzyzek', email='hotadam@gmail.com')"
      ]
     },
     "execution_count": 169,
     "metadata": {},
     "output_type": "execute_result"
    }
   ],
   "source": [
    "hot_adam = User(name=\"Adam\", surname=\"Brzyzek\", email=\"hotadam@gmail.com\")\n",
    "hot_adam\n",
    "await User.insert_one(hot_adam)\n"
   ]
  },
  {
   "cell_type": "code",
   "execution_count": 170,
   "metadata": {},
   "outputs": [
    {
     "data": {
      "text/plain": [
       "{'id': '66c3ab9dd4bd4b7536884def',\n",
       " 'name': 'Adam',\n",
       " 'surname': 'Brzyzek',\n",
       " 'email': 'hotadam@gmail.com'}"
      ]
     },
     "execution_count": 170,
     "metadata": {},
     "output_type": "execute_result"
    }
   ],
   "source": [
    "hot_adam.model_dump()"
   ]
  },
  {
   "cell_type": "code",
   "execution_count": 171,
   "metadata": {},
   "outputs": [
    {
     "data": {
      "text/plain": [
       "{'id': '66c3abadd4bd4b7536884df0',\n",
       " 'name': 'Adam',\n",
       " 'surname': 'Brzyzek',\n",
       " 'email': 'hotadam@gmail.com'}"
      ]
     },
     "execution_count": 171,
     "metadata": {},
     "output_type": "execute_result"
    }
   ],
   "source": [
    "hot_adam = User(name=\"Adam\", surname=\"Brzyzek\", email=\"hotadam@gmail.com\")\n",
    "await User.create(hot_adam)\n",
    "hot_adam.model_dump()"
   ]
  },
  {
   "cell_type": "code",
   "execution_count": 172,
   "metadata": {},
   "outputs": [
    {
     "data": {
      "text/plain": [
       "(User(id=ObjectId('66c3abadd4bd4b7536884df0'), revision_id=None, name='Adam', surname='Brzyzek', email='hotadam@gmail.com'),\n",
       " __main__.User)"
      ]
     },
     "execution_count": 172,
     "metadata": {},
     "output_type": "execute_result"
    }
   ],
   "source": [
    "adam = await User.get(hot_adam.id)\n",
    "adam, type(adam)"
   ]
  },
  {
   "cell_type": "markdown",
   "metadata": {},
   "source": [
    "diffrence between get and find one"
   ]
  },
  {
   "cell_type": "code",
   "execution_count": 173,
   "metadata": {},
   "outputs": [
    {
     "data": {
      "text/plain": [
       "User(id=ObjectId('66c3abadd4bd4b7536884df0'), revision_id=None, name='Adam', surname='Brzyzek', email='hotadam@gmail.com')"
      ]
     },
     "execution_count": 173,
     "metadata": {},
     "output_type": "execute_result"
    }
   ],
   "source": [
    "await User.find_one(User.id == hot_adam.id)"
   ]
  },
  {
   "cell_type": "markdown",
   "metadata": {},
   "source": [
    "find more powerfull"
   ]
  },
  {
   "cell_type": "code",
   "execution_count": 175,
   "metadata": {},
   "outputs": [
    {
     "name": "stdout",
     "output_type": "stream",
     "text": [
      "<coroutine object BaseCursorQuery.to_list at 0x10dfde840> <class 'coroutine'>\n"
     ]
    }
   ],
   "source": [
    "result = User.find()\n",
    "print(result, type(result))"
   ]
  },
  {
   "cell_type": "code",
   "execution_count": 179,
   "metadata": {},
   "outputs": [
    {
     "name": "stderr",
     "output_type": "stream",
     "text": [
      "/var/folders/8t/rr7grrqn4vg0mt1wmd21h3w80000gn/T/ipykernel_38731/990964848.py:1: RuntimeWarning: coroutine 'BaseCursorQuery.to_list' was never awaited\n",
      "  result = User.find().to_list()\n",
      "RuntimeWarning: Enable tracemalloc to get the object allocation traceback\n"
     ]
    }
   ],
   "source": [
    "result = User.find().to_list()\n",
    "# print(result)\n",
    "# print(len(result))\n"
   ]
  },
  {
   "cell_type": "code",
   "execution_count": 180,
   "metadata": {},
   "outputs": [
    {
     "data": {
      "text/plain": [
       "[User(id=ObjectId('66c3ab9dd4bd4b7536884def'), revision_id=None, name='Adam', surname='Brzyzek', email='hotadam@gmail.com'),\n",
       " User(id=ObjectId('66c3abadd4bd4b7536884df0'), revision_id=None, name='Adam', surname='Brzyzek', email='hotadam@gmail.com')]"
      ]
     },
     "execution_count": 180,
     "metadata": {},
     "output_type": "execute_result"
    }
   ],
   "source": [
    "await result"
   ]
  },
  {
   "cell_type": "code",
   "execution_count": 181,
   "metadata": {},
   "outputs": [
    {
     "name": "stdout",
     "output_type": "stream",
     "text": [
      "id=ObjectId('66c3ab9dd4bd4b7536884def') revision_id=None name='Adam' surname='Brzyzek' email='hotadam@gmail.com'\n",
      "<class '__main__.User'>\n"
     ]
    }
   ],
   "source": [
    "result = await User.find().first_or_none()\n",
    "print(result)\n",
    "print(type(result))"
   ]
  },
  {
   "cell_type": "markdown",
   "metadata": {},
   "source": [
    "pymongo syntax - ble string XD"
   ]
  },
  {
   "cell_type": "code",
   "execution_count": 182,
   "metadata": {},
   "outputs": [
    {
     "data": {
      "text/plain": [
       "[User(id=ObjectId('66c3abadd4bd4b7536884df0'), revision_id=None, name='Adam', surname='Brzyzek', email='hotadam@gmail.com')]"
      ]
     },
     "execution_count": 182,
     "metadata": {},
     "output_type": "execute_result"
    }
   ],
   "source": [
    "await User.find({\"_id\": hot_adam.id}).to_list()\n"
   ]
  },
  {
   "cell_type": "code",
   "execution_count": 183,
   "metadata": {},
   "outputs": [
    {
     "data": {
      "text/plain": [
       "[User(id=ObjectId('66c3ab9dd4bd4b7536884def'), revision_id=None, name='Adam', surname='Brzyzek', email='hotadam@gmail.com'),\n",
       " User(id=ObjectId('66c3abadd4bd4b7536884df0'), revision_id=None, name='Adam', surname='Brzyzek', email='hotadam@gmail.com')]"
      ]
     },
     "execution_count": 183,
     "metadata": {},
     "output_type": "execute_result"
    }
   ],
   "source": [
    "await User.find_many().to_list()\n"
   ]
  },
  {
   "cell_type": "code",
   "execution_count": 184,
   "metadata": {},
   "outputs": [
    {
     "data": {
      "text/plain": [
       "[User(id=ObjectId('66c3ab9dd4bd4b7536884def'), revision_id=None, name='Adam', surname='Brzyzek', email='hotadam@gmail.com'),\n",
       " User(id=ObjectId('66c3abadd4bd4b7536884df0'), revision_id=None, name='Adam', surname='Brzyzek', email='hotadam@gmail.com')]"
      ]
     },
     "execution_count": 184,
     "metadata": {},
     "output_type": "execute_result"
    }
   ],
   "source": [
    "await User.find_all().to_list()\n"
   ]
  },
  {
   "cell_type": "code",
   "execution_count": null,
   "metadata": {},
   "outputs": [],
   "source": []
  }
 ],
 "metadata": {
  "kernelspec": {
   "display_name": "mongodb-project-workshop-3.11.9",
   "language": "python",
   "name": "python3"
  },
  "language_info": {
   "codemirror_mode": {
    "name": "ipython",
    "version": 3
   },
   "file_extension": ".py",
   "mimetype": "text/x-python",
   "name": "python",
   "nbconvert_exporter": "python",
   "pygments_lexer": "ipython3",
   "version": "3.11.9"
  }
 },
 "nbformat": 4,
 "nbformat_minor": 2
}
