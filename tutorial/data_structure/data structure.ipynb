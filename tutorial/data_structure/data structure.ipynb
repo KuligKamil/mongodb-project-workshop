{
 "cells": [
  {
   "cell_type": "markdown",
   "metadata": {},
   "source": [
    "insert data\n",
    "* insert\n",
    "\n",
    "* create\n",
    "* insert_one\n",
    "* insert_many\n",
    "* save\n",
    "\n",
    "get data\n",
    "* find\n",
    "  * to_list\n",
    "  * first_or_none\n",
    "  \n",
    "* get / find_one\n",
    "* find_many\n",
    "* find_all\n",
    "\n",
    "sync\n"
   ]
  },
  {
   "cell_type": "markdown",
   "metadata": {},
   "source": [
    "when we would like to create application \n",
    "\n",
    "we want to create for users\n",
    "\n",
    "that why our first class will be user"
   ]
  },
  {
   "cell_type": "markdown",
   "metadata": {},
   "source": [
    "pydantic + beanie = ❤️\n"
   ]
  },
  {
   "cell_type": "code",
   "execution_count": 347,
   "metadata": {},
   "outputs": [
    {
     "data": {
      "text/plain": [
       "pydantic._internal._model_construction.ModelMetaclass"
      ]
     },
     "execution_count": 347,
     "metadata": {},
     "output_type": "execute_result"
    }
   ],
   "source": [
    "from pydantic import BaseModel\n",
    "\n",
    "\n",
    "class User(BaseModel):\n",
    "    name: str\n",
    "    surname: str\n",
    "    email: str\n",
    "\n",
    "type(User)"
   ]
  },
  {
   "cell_type": "code",
   "execution_count": 348,
   "metadata": {},
   "outputs": [
    {
     "data": {
      "text/plain": [
       "User(name='Adam', surname='Brzyzek', email='nothotadam@gmail.com')"
      ]
     },
     "execution_count": 348,
     "metadata": {},
     "output_type": "execute_result"
    }
   ],
   "source": [
    "not_hot_adam = User(name=\"Adam\", surname=\"Brzyzek\", email=\"nothotadam@gmail.com\")\n",
    "not_hot_adam"
   ]
  },
  {
   "cell_type": "code",
   "execution_count": 349,
   "metadata": {},
   "outputs": [
    {
     "data": {
      "text/plain": [
       "'{\"name\":\"Adam\",\"surname\":\"Brzyzek\",\"email\":\"nothotadam@gmail.com\"}'"
      ]
     },
     "execution_count": 349,
     "metadata": {},
     "output_type": "execute_result"
    }
   ],
   "source": [
    "not_hot_adam.model_dump_json()"
   ]
  },
  {
   "cell_type": "code",
   "execution_count": 350,
   "metadata": {},
   "outputs": [
    {
     "data": {
      "text/plain": [
       "{'name': 'Adam', 'surname': 'Brzyzek', 'email': 'nothotadam@gmail.com'}"
      ]
     },
     "execution_count": 350,
     "metadata": {},
     "output_type": "execute_result"
    }
   ],
   "source": [
    "not_hot_adam.model_dump()"
   ]
  },
  {
   "cell_type": "code",
   "execution_count": 351,
   "metadata": {},
   "outputs": [
    {
     "data": {
      "text/plain": [
       "(beanie.odm.documents.Document,\n",
       " lazy_model.parser.new.LazyModel,\n",
       " pydantic.main.BaseModel,\n",
       " beanie.odm.interfaces.setters.SettersInterface,\n",
       " beanie.odm.interfaces.inheritance.InheritanceInterface,\n",
       " beanie.odm.interfaces.find.FindInterface,\n",
       " beanie.odm.interfaces.aggregate.AggregateInterface,\n",
       " beanie.odm.interfaces.getters.OtherGettersInterface,\n",
       " object)"
      ]
     },
     "execution_count": 351,
     "metadata": {},
     "output_type": "execute_result"
    }
   ],
   "source": [
    "import inspect\n",
    "from beanie import Document\n",
    "from pydantic import BaseModel\n",
    "  \n",
    "\n",
    "inspect.getmro(Document)"
   ]
  },
  {
   "cell_type": "code",
   "execution_count": 352,
   "metadata": {},
   "outputs": [
    {
     "data": {
      "text/plain": [
       "pydantic._internal._model_construction.ModelMetaclass"
      ]
     },
     "execution_count": 352,
     "metadata": {},
     "output_type": "execute_result"
    }
   ],
   "source": [
    "class User(Document):\n",
    "    name: str\n",
    "    surname: str\n",
    "    email: str\n",
    "\n",
    "type(User)"
   ]
  },
  {
   "cell_type": "markdown",
   "metadata": {},
   "source": [
    "if you run it you will get 'CollectionWasNotInitialized'\n",
    "\n",
    "first initialize Collection"
   ]
  },
  {
   "cell_type": "code",
   "execution_count": 353,
   "metadata": {},
   "outputs": [
    {
     "data": {
      "text/plain": [
       "<Future pending cb=[_chain_future.<locals>._call_check_cancel() at /Users/coolig/.pyenv/versions/3.11.9/lib/python3.11/asyncio/futures.py:387]>"
      ]
     },
     "execution_count": 353,
     "metadata": {},
     "output_type": "execute_result"
    }
   ],
   "source": [
    "import os\n",
    "\n",
    "from beanie import init_beanie\n",
    "from motor.motor_asyncio import AsyncIOMotorClient\n",
    "\n",
    "\n",
    "client = AsyncIOMotorClient(os.getenv(\"MONGODB_URI\"))\n",
    "await init_beanie(\n",
    "    database=client.workshop,\n",
    "    document_models=[User],\n",
    "    multiprocessing_mode=True,\n",
    ")\n",
    "client.drop_database(name_or_database=client.workshop)\n"
   ]
  },
  {
   "cell_type": "code",
   "execution_count": 354,
   "metadata": {},
   "outputs": [
    {
     "data": {
      "text/plain": [
       "User(id=None, revision_id=None, name='Adam', surname='Brzyzek', email='hotadam@gmail.com')"
      ]
     },
     "execution_count": 354,
     "metadata": {},
     "output_type": "execute_result"
    }
   ],
   "source": [
    "hot_adam = User(name=\"Adam\", surname=\"Brzyzek\", email=\"hotadam@gmail.com\")\n",
    "hot_adam\n"
   ]
  },
  {
   "cell_type": "code",
   "execution_count": 355,
   "metadata": {},
   "outputs": [
    {
     "data": {
      "text/plain": [
       "{'id': None,\n",
       " 'name': 'Adam',\n",
       " 'surname': 'Brzyzek',\n",
       " 'email': 'hotadam@gmail.com'}"
      ]
     },
     "execution_count": 355,
     "metadata": {},
     "output_type": "execute_result"
    }
   ],
   "source": [
    "hot_adam.model_dump()"
   ]
  },
  {
   "cell_type": "code",
   "execution_count": 356,
   "metadata": {},
   "outputs": [
    {
     "data": {
      "text/plain": [
       "<coroutine object Document.insert at 0x10ecbf340>"
      ]
     },
     "execution_count": 356,
     "metadata": {},
     "output_type": "execute_result"
    }
   ],
   "source": [
    "User.insert(hot_adam)"
   ]
  },
  {
   "cell_type": "markdown",
   "metadata": {},
   "source": [
    "coroutine"
   ]
  },
  {
   "cell_type": "code",
   "execution_count": 357,
   "metadata": {},
   "outputs": [
    {
     "data": {
      "text/plain": [
       "{'id': None,\n",
       " 'name': 'Adam',\n",
       " 'surname': 'Brzyzek',\n",
       " 'email': 'hotadam@gmail.com'}"
      ]
     },
     "execution_count": 357,
     "metadata": {},
     "output_type": "execute_result"
    }
   ],
   "source": [
    "hot_adam.model_dump()"
   ]
  },
  {
   "cell_type": "code",
   "execution_count": 358,
   "metadata": {},
   "outputs": [
    {
     "data": {
      "text/plain": [
       "User(id=ObjectId('66c7c1d8d4bd4b7536884e09'), revision_id=None, name='Adam', surname='Brzyzek', email='hotadam@gmail.com')"
      ]
     },
     "execution_count": 358,
     "metadata": {},
     "output_type": "execute_result"
    }
   ],
   "source": [
    "await User.insert(hot_adam)"
   ]
  },
  {
   "cell_type": "code",
   "execution_count": 382,
   "metadata": {},
   "outputs": [],
   "source": [
    "type(hot_adam.id)\n",
    "from beanie import PydanticObjectId"
   ]
  },
  {
   "cell_type": "markdown",
   "metadata": {},
   "source": [
    "Explain revision_id"
   ]
  },
  {
   "cell_type": "code",
   "execution_count": 380,
   "metadata": {},
   "outputs": [
    {
     "data": {
      "text/plain": [
       "{'active': True,\n",
       " 'id': '66c7c1d9d4bd4b7536884e0d',\n",
       " 'name': 'Adam',\n",
       " 'surname': 'Brzyzek',\n",
       " 'email': 'hotadam@gmail.com',\n",
       " 'address': None}"
      ]
     },
     "execution_count": 380,
     "metadata": {},
     "output_type": "execute_result"
    }
   ],
   "source": [
    "hot_adam.model_dump()\n"
   ]
  },
  {
   "cell_type": "code",
   "execution_count": 361,
   "metadata": {},
   "outputs": [
    {
     "data": {
      "text/plain": [
       "<Future pending cb=[_chain_future.<locals>._call_check_cancel() at /Users/coolig/.pyenv/versions/3.11.9/lib/python3.11/asyncio/futures.py:387]>"
      ]
     },
     "execution_count": 361,
     "metadata": {},
     "output_type": "execute_result"
    }
   ],
   "source": [
    "client.drop_database(name_or_database=client.workshop)\n"
   ]
  },
  {
   "cell_type": "code",
   "execution_count": 362,
   "metadata": {},
   "outputs": [
    {
     "data": {
      "text/plain": [
       "User(id=ObjectId('66c7c1d8d4bd4b7536884e0a'), revision_id=None, name='Adam', surname='Brzyzek', email='hotadam@gmail.com')"
      ]
     },
     "execution_count": 362,
     "metadata": {},
     "output_type": "execute_result"
    }
   ],
   "source": [
    "hot_adam = User(name=\"Adam\", surname=\"Brzyzek\", email=\"hotadam@gmail.com\")\n",
    "hot_adam\n",
    "await User.insert_one(hot_adam)\n"
   ]
  },
  {
   "cell_type": "code",
   "execution_count": 363,
   "metadata": {},
   "outputs": [
    {
     "data": {
      "text/plain": [
       "{'id': '66c7c1d8d4bd4b7536884e0a',\n",
       " 'name': 'Adam',\n",
       " 'surname': 'Brzyzek',\n",
       " 'email': 'hotadam@gmail.com'}"
      ]
     },
     "execution_count": 363,
     "metadata": {},
     "output_type": "execute_result"
    }
   ],
   "source": [
    "hot_adam.model_dump()"
   ]
  },
  {
   "cell_type": "code",
   "execution_count": 364,
   "metadata": {},
   "outputs": [
    {
     "data": {
      "text/plain": [
       "{'id': '66c7c1d9d4bd4b7536884e0b',\n",
       " 'name': 'Adam',\n",
       " 'surname': 'Brzyzek',\n",
       " 'email': 'hotadam@gmail.com'}"
      ]
     },
     "execution_count": 364,
     "metadata": {},
     "output_type": "execute_result"
    }
   ],
   "source": [
    "hot_adam = User(name=\"Adam\", surname=\"Brzyzek\", email=\"hotadam@gmail.com\")\n",
    "await User.create(hot_adam)\n",
    "hot_adam.model_dump()"
   ]
  },
  {
   "cell_type": "code",
   "execution_count": 365,
   "metadata": {},
   "outputs": [
    {
     "data": {
      "text/plain": [
       "(User(id=ObjectId('66c7c1d9d4bd4b7536884e0b'), revision_id=None, name='Adam', surname='Brzyzek', email='hotadam@gmail.com'),\n",
       " __main__.User)"
      ]
     },
     "execution_count": 365,
     "metadata": {},
     "output_type": "execute_result"
    }
   ],
   "source": [
    "adam = await User.get(hot_adam.id)\n",
    "adam, type(adam)"
   ]
  },
  {
   "cell_type": "markdown",
   "metadata": {},
   "source": [
    "diffrence between get and find one"
   ]
  },
  {
   "cell_type": "code",
   "execution_count": 366,
   "metadata": {},
   "outputs": [
    {
     "data": {
      "text/plain": [
       "User(id=ObjectId('66c7c1d9d4bd4b7536884e0b'), revision_id=None, name='Adam', surname='Brzyzek', email='hotadam@gmail.com')"
      ]
     },
     "execution_count": 366,
     "metadata": {},
     "output_type": "execute_result"
    }
   ],
   "source": [
    "await User.find_one(User.id == hot_adam.id)"
   ]
  },
  {
   "cell_type": "markdown",
   "metadata": {},
   "source": [
    "find more powerfull"
   ]
  },
  {
   "cell_type": "code",
   "execution_count": 367,
   "metadata": {},
   "outputs": [
    {
     "name": "stdout",
     "output_type": "stream",
     "text": [
      "<beanie.odm.queries.find.FindMany object at 0x10ee86310> <class 'beanie.odm.queries.find.FindMany'>\n"
     ]
    }
   ],
   "source": [
    "result = User.find()\n",
    "print(result, type(result))"
   ]
  },
  {
   "cell_type": "code",
   "execution_count": 368,
   "metadata": {},
   "outputs": [],
   "source": [
    "result = User.find({}).to_list()\n",
    "# print(result)\n",
    "# print(len(result))\n"
   ]
  },
  {
   "cell_type": "code",
   "execution_count": 369,
   "metadata": {},
   "outputs": [
    {
     "data": {
      "text/plain": [
       "[User(id=ObjectId('66c7c1d8d4bd4b7536884e0a'), revision_id=None, name='Adam', surname='Brzyzek', email='hotadam@gmail.com'),\n",
       " User(id=ObjectId('66c7c1d9d4bd4b7536884e0b'), revision_id=None, name='Adam', surname='Brzyzek', email='hotadam@gmail.com')]"
      ]
     },
     "execution_count": 369,
     "metadata": {},
     "output_type": "execute_result"
    }
   ],
   "source": [
    "await result"
   ]
  },
  {
   "cell_type": "code",
   "execution_count": 370,
   "metadata": {},
   "outputs": [
    {
     "name": "stdout",
     "output_type": "stream",
     "text": [
      "id=ObjectId('66c7c1d8d4bd4b7536884e0a') revision_id=None name='Adam' surname='Brzyzek' email='hotadam@gmail.com'\n",
      "<class '__main__.User'>\n"
     ]
    }
   ],
   "source": [
    "result = await User.find().first_or_none()\n",
    "print(result)\n",
    "print(type(result))"
   ]
  },
  {
   "cell_type": "markdown",
   "metadata": {},
   "source": [
    "pymongo syntax - ble string XD"
   ]
  },
  {
   "cell_type": "code",
   "execution_count": 371,
   "metadata": {},
   "outputs": [
    {
     "data": {
      "text/plain": [
       "[User(id=ObjectId('66c7c1d9d4bd4b7536884e0b'), revision_id=None, name='Adam', surname='Brzyzek', email='hotadam@gmail.com')]"
      ]
     },
     "execution_count": 371,
     "metadata": {},
     "output_type": "execute_result"
    }
   ],
   "source": [
    "await User.find({\"_id\": hot_adam.id}).to_list()\n"
   ]
  },
  {
   "cell_type": "code",
   "execution_count": 372,
   "metadata": {},
   "outputs": [
    {
     "data": {
      "text/plain": [
       "[User(id=ObjectId('66c7c1d8d4bd4b7536884e0a'), revision_id=None, name='Adam', surname='Brzyzek', email='hotadam@gmail.com'),\n",
       " User(id=ObjectId('66c7c1d9d4bd4b7536884e0b'), revision_id=None, name='Adam', surname='Brzyzek', email='hotadam@gmail.com')]"
      ]
     },
     "execution_count": 372,
     "metadata": {},
     "output_type": "execute_result"
    }
   ],
   "source": [
    "await User.find_many().to_list()\n"
   ]
  },
  {
   "cell_type": "code",
   "execution_count": 373,
   "metadata": {},
   "outputs": [
    {
     "data": {
      "text/plain": [
       "[User(id=ObjectId('66c7c1d8d4bd4b7536884e0a'), revision_id=None, name='Adam', surname='Brzyzek', email='hotadam@gmail.com'),\n",
       " User(id=ObjectId('66c7c1d9d4bd4b7536884e0b'), revision_id=None, name='Adam', surname='Brzyzek', email='hotadam@gmail.com')]"
      ]
     },
     "execution_count": 373,
     "metadata": {},
     "output_type": "execute_result"
    }
   ],
   "source": [
    "await User.find_all().to_list()\n"
   ]
  },
  {
   "cell_type": "code",
   "execution_count": 374,
   "metadata": {},
   "outputs": [
    {
     "data": {
      "text/plain": [
       "BaseInformation(name='Adam', surname='Brzyzek')"
      ]
     },
     "execution_count": 374,
     "metadata": {},
     "output_type": "execute_result"
    }
   ],
   "source": [
    "class BaseInformation(BaseModel):\n",
    "  name: str\n",
    "  surname: str\n",
    "\n",
    "result = await User.find().project(BaseInformation).first_or_none()\n",
    "result"
   ]
  },
  {
   "cell_type": "markdown",
   "metadata": {},
   "source": [
    "Embedeed Documnet"
   ]
  },
  {
   "cell_type": "code",
   "execution_count": 377,
   "metadata": {},
   "outputs": [],
   "source": [
    "from typing import Optional\n",
    "\n",
    "\n",
    "class Address(BaseModel):\n",
    "    country: str\n",
    "    city: str\n",
    "    street: str\n",
    "    building_number: str\n",
    "    zip_code: str\n",
    "\n",
    "\n",
    "class User(Document):\n",
    "  name: str\n",
    "  surname: str\n",
    "  email: str\n",
    "  address: Optional[Address] = None\n"
   ]
  },
  {
   "cell_type": "markdown",
   "metadata": {},
   "source": [
    "Use inheritance"
   ]
  },
  {
   "cell_type": "code",
   "execution_count": 378,
   "metadata": {},
   "outputs": [
    {
     "data": {
      "text/plain": [
       "User(active=True, id=ObjectId('66c7c1d9d4bd4b7536884e0d'), revision_id=None, name='Adam', surname='Brzyzek', email='hotadam@gmail.com', address=None)"
      ]
     },
     "execution_count": 378,
     "metadata": {},
     "output_type": "execute_result"
    }
   ],
   "source": [
    "class Active(BaseModel):\n",
    "    active: bool = True\n",
    "\n",
    "class Address(BaseModel):\n",
    "    country: str\n",
    "    city: str\n",
    "    street: str\n",
    "    building_number: str\n",
    "    zip_code: str\n",
    "\n",
    "class User(Document, Active):\n",
    "    name: str\n",
    "    surname: str\n",
    "    email: str\n",
    "    address: Optional[Address] = None\n",
    "\n",
    "client = AsyncIOMotorClient(os.getenv(\"MONGODB_URI\"))\n",
    "\n",
    "await init_beanie(\n",
    "    database=client.workshop,\n",
    "    document_models=[User],\n",
    "    multiprocessing_mode=True,\n",
    ")\n",
    "client.drop_database(name_or_database=client.workshop)\n",
    "\n",
    "hot_adam = User(name=\"Adam\", surname=\"Brzyzek\", email=\"hotadam@gmail.com\")\n",
    "await User.insert(hot_adam)"
   ]
  },
  {
   "cell_type": "code",
   "execution_count": 379,
   "metadata": {},
   "outputs": [
    {
     "data": {
      "text/plain": [
       "{'active': True,\n",
       " 'id': '66c7c1d9d4bd4b7536884e0d',\n",
       " 'name': 'Adam',\n",
       " 'surname': 'Brzyzek',\n",
       " 'email': 'hotadam@gmail.com',\n",
       " 'address': None}"
      ]
     },
     "execution_count": 379,
     "metadata": {},
     "output_type": "execute_result"
    }
   ],
   "source": [
    "hot_adam.model_dump()\n"
   ]
  },
  {
   "cell_type": "markdown",
   "metadata": {},
   "source": [
    "### Exercise 1\n",
    "\n",
    "* create document Task with name, description, priority(low, normal, urgent), Size(S, M, L), Status(Backlog, TODO, InProgress, OnHold, Review, Done)\n",
    "* add to User Document recently task added by user  \n",
    "* add one user & task"
   ]
  }
 ],
 "metadata": {
  "kernelspec": {
   "display_name": "mongodb-project-workshop-3.11.9",
   "language": "python",
   "name": "python3"
  },
  "language_info": {
   "codemirror_mode": {
    "name": "ipython",
    "version": 3
   },
   "file_extension": ".py",
   "mimetype": "text/x-python",
   "name": "python",
   "nbconvert_exporter": "python",
   "pygments_lexer": "ipython3",
   "version": "3.11.9"
  }
 },
 "nbformat": 4,
 "nbformat_minor": 2
}
