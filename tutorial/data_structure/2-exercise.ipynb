{
 "cells": [
  {
   "cell_type": "markdown",
   "metadata": {},
   "source": [
    "### Exercise 1\n",
    "\n",
    "* create document Task with name, description, priority(low, normal, urgent), Size(S, M, L), Status(Backlog, TODO, InProgress, OnHold, Review, Done)\n",
    "* add to User Document recently task added by user  \n",
    "* add one user & task"
   ]
  },
  {
   "cell_type": "code",
   "execution_count": 12,
   "metadata": {},
   "outputs": [
    {
     "data": {
      "text/plain": [
       "Task(id=ObjectId('66c9e00c9721746de2ec9ecd'), revision_id=None, name='Call to My Momma', description=None, priority=<PriorityType.urgent: 3>, size=<SizeType.L: 3>, status=<StatusType.InProgress: 3>)"
      ]
     },
     "execution_count": 12,
     "metadata": {},
     "output_type": "execute_result"
    }
   ],
   "source": [
    "from enum import IntEnum\n",
    "from typing import Optional\n",
    "from beanie import Document\n",
    "from pydantic import BaseModel\n",
    "import os\n",
    "\n",
    "from beanie import init_beanie\n",
    "from motor.motor_asyncio import AsyncIOMotorClient\n",
    "\n",
    "\n",
    "class PriorityType(IntEnum):\n",
    "    low = 1\n",
    "    normal = 2\n",
    "    urgent = 3\n",
    "\n",
    "\n",
    "class SizeType(IntEnum):\n",
    "    S = 1\n",
    "    M = 2\n",
    "    L = 3\n",
    "\n",
    "\n",
    "class StatusType(IntEnum):\n",
    "    BACKLOG = 1\n",
    "    TODO = 2\n",
    "    InProgress = 3\n",
    "    OnHold = 4\n",
    "    Review = 5\n",
    "    Done = 6\n",
    "\n",
    "\n",
    "class Task(Document):\n",
    "    name: str\n",
    "    description: Optional[str] = None\n",
    "    priority: Optional[PriorityType] = None\n",
    "    size: Optional[SizeType] = None\n",
    "    status: StatusType = StatusType.BACKLOG\n",
    "\n",
    "class Active(BaseModel):\n",
    "    active: bool = True\n",
    "\n",
    "\n",
    "class Address(BaseModel):\n",
    "    country: str\n",
    "    city: str\n",
    "    street: str\n",
    "    building_number: str\n",
    "    zip_code: str\n",
    "\n",
    "\n",
    "class User(Document, Active):\n",
    "    name: str\n",
    "    surname: str\n",
    "    email: str\n",
    "    address: Optional[Address] = None\n",
    "    recently_tasks: Optional[Task] = None\n",
    "\n",
    "\n",
    "client = AsyncIOMotorClient(os.getenv(\"MONGODB_URI\"))\n",
    "\n",
    "await init_beanie(\n",
    "    database=client.workshop,\n",
    "    document_models=[User, Task],\n",
    "    multiprocessing_mode=True,\n",
    ")\n",
    "client.drop_database(name_or_database=client.workshop)\n",
    "\n",
    "upper_task = Task(name='Call to My Momma', priority=PriorityType.urgent, size=SizeType.L, status=StatusType.InProgress)\n",
    "hot_adam = User(name=\"Adam\", surname=\"Brzyzek\", email=\"hotadam@gmail.com\", recently_tasks=upper_task)\n",
    "await User.insert(hot_adam)\n",
    "await Task.insert(upper_task)\n"
   ]
  },
  {
   "cell_type": "code",
   "execution_count": 14,
   "metadata": {},
   "outputs": [
    {
     "data": {
      "text/plain": [
       "[User(active=True, id=ObjectId('66c9e00c9721746de2ec9ecc'), revision_id=None, name='Adam', surname='Brzyzek', email='hotadam@gmail.com', address=None, recently_tasks=Task(id=None, revision_id=None, name='Call to My Momma', description=None, priority=<PriorityType.urgent: 3>, size=<SizeType.L: 3>, status=<StatusType.InProgress: 3>))]"
      ]
     },
     "execution_count": 14,
     "metadata": {},
     "output_type": "execute_result"
    }
   ],
   "source": [
    "await User.find().to_list()"
   ]
  },
  {
   "cell_type": "code",
   "execution_count": 15,
   "metadata": {},
   "outputs": [
    {
     "data": {
      "text/plain": [
       "[Task(id=ObjectId('66c9e00c9721746de2ec9ecd'), revision_id=None, name='Call to My Momma', description=None, priority=<PriorityType.urgent: 3>, size=<SizeType.L: 3>, status=<StatusType.InProgress: 3>)]"
      ]
     },
     "execution_count": 15,
     "metadata": {},
     "output_type": "execute_result"
    }
   ],
   "source": [
    "await Task.find().to_list()\n"
   ]
  },
  {
   "cell_type": "markdown",
   "metadata": {},
   "source": [
    "Show relation\n",
    "link task with user\n",
    "\n",
    "TODO explain Link"
   ]
  },
  {
   "cell_type": "code",
   "execution_count": 31,
   "metadata": {},
   "outputs": [],
   "source": [
    "from beanie import Link\n",
    "\n",
    "\n",
    "class User(Document, Active):\n",
    "    name: str\n",
    "    surname: str\n",
    "    email: str\n",
    "    address: Optional[Address] = None\n",
    "    recently_tasks: Optional[list[Task]] = None\n",
    "\n",
    "\n",
    "class Task(Document):\n",
    "    name: str\n",
    "    description: Optional[str] = None\n",
    "    priority: Optional[PriorityType] = None\n",
    "    size: Optional[SizeType] = None\n",
    "    status: StatusType = StatusType.BACKLOG\n",
    "    user: Optional[Link[User]] = None\n"
   ]
  },
  {
   "cell_type": "code",
   "execution_count": 33,
   "metadata": {},
   "outputs": [
    {
     "data": {
      "text/plain": [
       "Task(id=ObjectId('66c9f35d9721746de2ec9edf'), revision_id=None, name='Call to My Momma', description=None, priority=<PriorityType.urgent: 3>, size=<SizeType.L: 3>, status=<StatusType.InProgress: 3>, user=User(active=True, id=ObjectId('66c9f35d9721746de2ec9ede'), revision_id=None, name='Adam', surname='Brzyzek', email='hotadam@gmail.com', address=None, recently_tasks=[Task(id=None, revision_id=None, name='Call to My Momma', description=None, priority=<PriorityType.urgent: 3>, size=<SizeType.L: 3>, status=<StatusType.InProgress: 3>, user=None)]))"
      ]
     },
     "execution_count": 33,
     "metadata": {},
     "output_type": "execute_result"
    }
   ],
   "source": [
    "await init_beanie(\n",
    "    database=client.workshop,\n",
    "    document_models=[User, Task],\n",
    "    multiprocessing_mode=True,\n",
    ")\n",
    "client.drop_database(name_or_database=client.workshop)\n",
    "\n",
    "hot_adam = User(\n",
    "    name=\"Adam\", surname=\"Brzyzek\", email=\"hotadam@gmail.com\"\n",
    ")\n",
    "await User.insert(hot_adam)\n",
    "upper_task = Task(\n",
    "    name=\"Call to My Momma\",\n",
    "    priority=PriorityType.urgent,\n",
    "    size=SizeType.L,\n",
    "    status=StatusType.InProgress,\n",
    ")\n",
    "hot_adam.recently_tasks = [upper_task]\n",
    "await hot_adam.save()\n",
    "await Task.insert(upper_task)\n",
    "upper_task.user = hot_adam\n",
    "await upper_task.save()\n",
    "\n"
   ]
  },
  {
   "cell_type": "markdown",
   "metadata": {},
   "source": [
    "### Exercise 2\n",
    "\n",
    "* create document TaskLogStatus for log task status, \n",
    "  needs to have priority, size, status, date, link to user and task\n",
    "* add extend tables with technical tables like active, create_data & update_data\n",
    "  \n"
   ]
  }
 ],
 "metadata": {
  "kernelspec": {
   "display_name": "mongodb-project-workshop-3.11.9",
   "language": "python",
   "name": "python3"
  },
  "language_info": {
   "codemirror_mode": {
    "name": "ipython",
    "version": 3
   },
   "file_extension": ".py",
   "mimetype": "text/x-python",
   "name": "python",
   "nbconvert_exporter": "python",
   "pygments_lexer": "ipython3",
   "version": "3.11.9"
  }
 },
 "nbformat": 4,
 "nbformat_minor": 2
}
